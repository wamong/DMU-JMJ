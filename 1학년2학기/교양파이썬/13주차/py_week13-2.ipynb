{
 "cells": [
  {
   "cell_type": "code",
   "execution_count": 2,
   "metadata": {},
   "outputs": [
    {
     "name": "stdout",
     "output_type": "stream",
     "text": [
      "Requirement already satisfied: openpyxl in c:\\users\\myoungjin\\appdata\\local\\programs\\python\\python312\\lib\\site-packages (3.1.5)\n",
      "Requirement already satisfied: et-xmlfile in c:\\users\\myoungjin\\appdata\\local\\programs\\python\\python312\\lib\\site-packages (from openpyxl) (2.0.0)\n",
      "Note: you may need to restart the kernel to use updated packages.\n"
     ]
    },
    {
     "name": "stderr",
     "output_type": "stream",
     "text": [
      "\n",
      "[notice] A new release of pip is available: 24.2 -> 24.3.1\n",
      "[notice] To update, run: python.exe -m pip install --upgrade pip\n"
     ]
    }
   ],
   "source": [
    "pip install openpyxl"
   ]
  },
  {
   "cell_type": "code",
   "execution_count": 3,
   "metadata": {},
   "outputs": [],
   "source": [
    "import pandas as pd"
   ]
  },
  {
   "cell_type": "code",
   "execution_count": 7,
   "metadata": {},
   "outputs": [
    {
     "name": "stdout",
     "output_type": "stream",
     "text": [
      "    이름  독서  인성  영어  예술\n",
      "0  강동원  63  93  67  71\n",
      "1  송중기  89  83  71  80\n",
      "2  기태영  83  76  92  98\n",
      "3  김남길  94  88  73  93\n",
      "4  류준열  71  83  80  88\n",
      "5  박성균  67  87  92  90\n"
     ]
    }
   ],
   "source": [
    "fe = pd.read_excel('C:/Users/myoungjin/OneDrive/Desktop/DMU-JMJ/1학년2학기/교양파이썬/13주차/excelEX.xlsx')\n",
    "print(fe)"
   ]
  },
  {
   "cell_type": "code",
   "execution_count": 12,
   "metadata": {},
   "outputs": [
    {
     "data": {
      "text/plain": [
       "0    1.0\n",
       "1    3.0\n",
       "2    4.0\n",
       "3    NaN\n",
       "4    6.0\n",
       "5    8.0\n",
       "dtype: float64"
      ]
     },
     "execution_count": 12,
     "metadata": {},
     "output_type": "execute_result"
    }
   ],
   "source": [
    "import numpy as np\n",
    "import pandas as pd\n",
    "series = pd.Series ([1, 3, 4, np.nan, 6, 8])\n",
    "series"
   ]
  },
  {
   "cell_type": "code",
   "execution_count": null,
   "metadata": {},
   "outputs": [
    {
     "name": "stdout",
     "output_type": "stream",
     "text": [
      "0    김수안\n",
      "1    김수전\n",
      "2    박동윤\n",
      "3    강이안\n",
      "4    강지안\n",
      "dtype: object \n",
      " 0    19\n",
      "1    23\n",
      "2    22\n",
      "3    19\n",
      "4    16\n",
      "dtype: int64 \n",
      " 0    여\n",
      "1    여\n",
      "2    남\n",
      "3    여\n",
      "4    남\n",
      "dtype: object \n",
      " 0    4.35\n",
      "1    4.23\n",
      "2    4.25\n",
      "3    4.37\n",
      "4    4.25\n",
      "dtype: float64\n"
     ]
    }
   ],
   "source": [
    "name_series = pd.Series(['김수안', '김수전', '박동윤', '강이안','강지안'])\n",
    "age_series = pd.Series([19, 23, 22, 19, 16])\n",
    "sex_series = pd.Series(['여','여','남','여','남'])\n",
    "grade_series = pd.Series([4.35, 4.23, 4.25, 4.37, 4.25])\n",
    "print(name_series, age_series, sex_series, grade_series)"
   ]
  },
  {
   "cell_type": "code",
   "execution_count": null,
   "metadata": {},
   "outputs": [],
   "source": []
  }
 ],
 "metadata": {
  "kernelspec": {
   "display_name": "Python 3",
   "language": "python",
   "name": "python3"
  },
  "language_info": {
   "codemirror_mode": {
    "name": "ipython",
    "version": 3
   },
   "file_extension": ".py",
   "mimetype": "text/x-python",
   "name": "python",
   "nbconvert_exporter": "python",
   "pygments_lexer": "ipython3",
   "version": "3.12.2"
  }
 },
 "nbformat": 4,
 "nbformat_minor": 2
}
