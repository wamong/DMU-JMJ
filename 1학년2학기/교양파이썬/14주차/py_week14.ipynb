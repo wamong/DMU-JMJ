{
 "cells": [
  {
   "cell_type": "code",
   "execution_count": 15,
   "metadata": {},
   "outputs": [
    {
     "name": "stdout",
     "output_type": "stream",
     "text": [
      "강동원 93.0\n"
     ]
    }
   ],
   "source": [
    "import csv\n",
    "\n",
    "f=open('C:/Users/myoungjin/OneDrive/Desktop/DMU-JMJ/1학년2학기/교양파이썬/14주차/excelEX.csv')\n",
    "data=csv.reader(f)\n",
    "header=next(data)\n",
    "\n",
    "max_score=0\n",
    "max_name=''\n",
    "for row in data:\n",
    "    if float(row[2])>max_score:\n",
    "        max_score=float(row[2])\n",
    "        max_name=row[0]\n",
    "print(max_name, max_score)\n",
    "\n",
    "f.close()\n"
   ]
  },
  {
   "cell_type": "code",
   "execution_count": 27,
   "metadata": {},
   "outputs": [
    {
     "data": {
      "text/html": [
       "<div>\n",
       "<style scoped>\n",
       "    .dataframe tbody tr th:only-of-type {\n",
       "        vertical-align: middle;\n",
       "    }\n",
       "\n",
       "    .dataframe tbody tr th {\n",
       "        vertical-align: top;\n",
       "    }\n",
       "\n",
       "    .dataframe thead th {\n",
       "        text-align: right;\n",
       "    }\n",
       "</style>\n",
       "<table border=\"1\" class=\"dataframe\">\n",
       "  <thead>\n",
       "    <tr style=\"text-align: right;\">\n",
       "      <th></th>\n",
       "      <th>국어</th>\n",
       "      <th>수학</th>\n",
       "      <th>영어</th>\n",
       "    </tr>\n",
       "  </thead>\n",
       "  <tbody>\n",
       "    <tr>\n",
       "      <th>홍길동</th>\n",
       "      <td>93</td>\n",
       "      <td>92</td>\n",
       "      <td>95</td>\n",
       "    </tr>\n",
       "    <tr>\n",
       "      <th>김유신</th>\n",
       "      <td>20</td>\n",
       "      <td>90</td>\n",
       "      <td>92</td>\n",
       "    </tr>\n",
       "    <tr>\n",
       "      <th>이순신</th>\n",
       "      <td>96</td>\n",
       "      <td>95</td>\n",
       "      <td>93</td>\n",
       "    </tr>\n",
       "  </tbody>\n",
       "</table>\n",
       "</div>"
      ],
      "text/plain": [
       "     국어  수학  영어\n",
       "홍길동  93  92  95\n",
       "김유신  20  90  92\n",
       "이순신  96  95  93"
      ]
     },
     "execution_count": 27,
     "metadata": {},
     "output_type": "execute_result"
    }
   ],
   "source": [
    "import pandas as pd\n",
    "\n",
    "df1 = pd.DataFrame([[93,92,95],[20,90,92],[96,95,93]],\n",
    "           columns=['국어','수학','영어'],\n",
    "             index=['홍길동','김유신','이순신'])\n",
    "df1"
   ]
  },
  {
   "cell_type": "code",
   "execution_count": 29,
   "metadata": {},
   "outputs": [
    {
     "data": {
      "text/plain": [
       "홍길동    93\n",
       "김유신    20\n",
       "이순신    96\n",
       "Name: 국어, dtype: int64"
      ]
     },
     "execution_count": 29,
     "metadata": {},
     "output_type": "execute_result"
    }
   ],
   "source": [
    "s1 = df1['국어']\n",
    "s1"
   ]
  },
  {
   "cell_type": "code",
   "execution_count": 28,
   "metadata": {},
   "outputs": [
    {
     "data": {
      "text/html": [
       "<div>\n",
       "<style scoped>\n",
       "    .dataframe tbody tr th:only-of-type {\n",
       "        vertical-align: middle;\n",
       "    }\n",
       "\n",
       "    .dataframe tbody tr th {\n",
       "        vertical-align: top;\n",
       "    }\n",
       "\n",
       "    .dataframe thead th {\n",
       "        text-align: right;\n",
       "    }\n",
       "</style>\n",
       "<table border=\"1\" class=\"dataframe\">\n",
       "  <thead>\n",
       "    <tr style=\"text-align: right;\">\n",
       "      <th></th>\n",
       "      <th>국어</th>\n",
       "      <th>수학</th>\n",
       "      <th>영어</th>\n",
       "    </tr>\n",
       "  </thead>\n",
       "  <tbody>\n",
       "    <tr>\n",
       "      <th>홍길동</th>\n",
       "      <td>False</td>\n",
       "      <td>False</td>\n",
       "      <td>False</td>\n",
       "    </tr>\n",
       "    <tr>\n",
       "      <th>김유신</th>\n",
       "      <td>False</td>\n",
       "      <td>False</td>\n",
       "      <td>False</td>\n",
       "    </tr>\n",
       "    <tr>\n",
       "      <th>이순신</th>\n",
       "      <td>True</td>\n",
       "      <td>False</td>\n",
       "      <td>False</td>\n",
       "    </tr>\n",
       "  </tbody>\n",
       "</table>\n",
       "</div>"
      ],
      "text/plain": [
       "        국어     수학     영어\n",
       "홍길동  False  False  False\n",
       "김유신  False  False  False\n",
       "이순신   True  False  False"
      ]
     },
     "execution_count": 28,
     "metadata": {},
     "output_type": "execute_result"
    }
   ],
   "source": [
    "df1 > 95"
   ]
  },
  {
   "cell_type": "code",
   "execution_count": 30,
   "metadata": {},
   "outputs": [],
   "source": [
    "df1.to_csv('score_정명진.csv')"
   ]
  },
  {
   "cell_type": "code",
   "execution_count": 35,
   "metadata": {},
   "outputs": [
    {
     "name": "stdout",
     "output_type": "stream",
     "text": [
      "0    김수안\n",
      "1    김수정\n",
      "2    박동윤\n",
      "3    강이안\n",
      "4    강지안\n",
      "dtype: object 0    19\n",
      "1    23\n",
      "2    22\n",
      "3    19\n",
      "4    16\n",
      "dtype: int64 0    여\n",
      "1    여\n",
      "2    남\n",
      "3    여\n",
      "4    남\n",
      "dtype: object 0    4.35\n",
      "1    4.23\n",
      "2    4.25\n",
      "3    4.37\n",
      "4    4.25\n",
      "dtype: float64\n"
     ]
    }
   ],
   "source": [
    "import numpy as np\n",
    "import pandas as pd\n",
    "series = pd.Series([1, 3, 4, np.nan, 6, 8])\n",
    "name_series = pd.Series(['김수안', '김수정', '박동윤', '강이안', '강지안'])\n",
    "age_series = pd.Series([19, 23, 22, 19, 16])\n",
    "sex_series = pd.Series(['여','여','남','여','남'])\n",
    "grade_series = pd.Series([4.35, 4.23, 4.25, 4.37, 4.25])\n",
    "print(name_series, age_series, sex_series, grade_series)"
   ]
  },
  {
   "cell_type": "code",
   "execution_count": 37,
   "metadata": {},
   "outputs": [
    {
     "name": "stdout",
     "output_type": "stream",
     "text": [
      "    이름  나이 성별    평점\n",
      "0  김수안  19  여  4.35\n",
      "1  김수정  23  여  4.23\n",
      "2  박동윤  22  남  4.25\n",
      "3  강이안  19  여  4.37\n",
      "4  강지안  16  남  4.25\n"
     ]
    }
   ],
   "source": [
    "df = pd.DataFrame({'이름': name_series, '나이': age_series, '성별': sex_series, '평점': grade_series})\n",
    "print(df)\n",
    "\n",
    "df.to_csv('name_정명진.csv')"
   ]
  },
  {
   "cell_type": "code",
   "execution_count": 2,
   "metadata": {},
   "outputs": [
    {
     "name": "stdout",
     "output_type": "stream",
     "text": [
      "3.4,3.8,2.9,4.2,5.6,8,5,4,3.1,5.5,4.8,2.6,4.6,4.4,10.3,3.2,1.6,2.1,1.9,3.2,4.2,2.5,6.2,3,1.9,2.5,1.6,2.3,4.9,6.2,4.2,2.6,5.3,1.7,3.2,3.3,4.3,7.6,6.6,2.5,7.2,3.8,1.8,3.9,1.6,2.2,1.2,2.2,3,3.5,2.8,3.6,7.9,5.8,4.1,6.1,1.8,2.8,5.6,2.1,2.2,3.3,3.2,5.9,5,5.1,3.1,3.4,3.7,2.7,2.6,3.1,2.5,5,3.2,2.9,4.5,2.9,2.9,2.1,3.9,6.3,3.9,2,3,6.1,7.1,4,3.5,5.8,6.6,7.2,5.6,3.5,3.2,2.9,3.2,3.3,2.5,7.5,3.1,2.2,2.8,6.7,3.5,5,4.1,1.9,3.9,2.7,5.1,2.2,4.3,8.8,5.2,1.8,3.9,3.9,6.5,4.2,3.7,5.8,5.1,4.2,5.7,3.7,5.4,5.6,6.4,3.4,5.9,5.4,5.4,1.8,3.6,5.1,2.4,2.1,4.3,2.3,7.6,2.9,2,5.2,3.3,3.7,5.3,6.1,4,4.6,2.5,4.3,7.8,11.1,6,6.5,3.1,4.1,5.9,2.4,3.3,5.4,2.6,2.4,3.2,2.3,3.1,5.6,5.6,3.6,3,2.9,2.5,2,2,3.2,4.6,4,3.8,2.8,1.7,3.2,1.9,3.3,2,2.5,2.4,3.5,2.4,4.6,3.5,4.2,5.2,5,5.7,9.7,4.2,7,4.5,4.3,4.4,5.6,5.4,6.3,4.8,2,4.1,6.2,5.9,2.4,5.3,7.4,3.2,4.9,2.8,2.5,5.2,2.9,3.6,2.9,4.2,4,2.9,5.5,4.4,7.1,3.8,4.8,4.1,6.6,6.2,3.8,3.4,5.8,2.9,3.2,5.3,2.7,3.7,2.1,2.7,3.9,3.4,5,5.9,3.3,3,4.2,6.1,8.3,5.4,5.9,7.4,3.3,7,5.3,4,8.8,7,1.9,7,12.1,5,2.5,3,2.5,5.5,6.8,4.5,3.7,4.4,6.2,9,5.5,4.6,4.8,4.5,2.7,2.8,7.6,4.5,9,4.3,6,4,6.9,5.2,7,1.9,2.5,6.6,10.5,8.9,4.4,1.9,2.1,4.3,2.6,2.7,2.7,4,7.9,3.6,3,3.1,1.3,5.9,6.2,3.6,3.3,4.8,5.9,4.2,3.2,4.4,2.7,2.1,2.7,2.1,3,1.6,1.9,1.4,1.9,4.2,8.5,11.1,6.2,5.7,4.5,8.6,7,8,8.2,3.6,2.3,6.6,1.8,3.5,4.7,3.2,9.9,7.6,7,2.9,4.5,5.7,7.3,6.3,5.5,3.4,5.6,10.2,11.8,7.1,2.2,1.1,0.9,1.6,4.5,7.5,8.2,3,2.1,2.2,1.5,2.8,1.5,3.3,2.1,2.1,1.6,4.1,8.2,7.6,2.7,1.8,4.9,6.8,2.5,4,4,5.1,1.5,1.5,2.9,2.6,4.1,6.4,4.9,4.1,2.8,2.2,1.6,1.8,1.8,3.1,8.2,12.5,10.6,7,4.1,2.7,4.4,3.5,4.9,3.7,1.8,1.4,3.3,3.5,2.7,5.6,9.5,8.3,8,9.4,3.8,3.2,0.5,1.3,0.3,2.5,1.7,2.4,4.9,2.3,3,1.5,2.2,2.4,3.9,1.5,1.1,5.1,1.8,1.9,2.2,2.5,1.8,4.3,8.7,3.1,2.1,2.3,3.3,4.5,11.3,3.5,3.6,4.4,2,1.6,1.2,3.8,6.4,4.5,1.5,2.4,2.7,1.2,4.3,7.3,5.3,6.2,5.8,3.5,1.4,1.7,2.4,4.2,3.3,4,2.8,4.4,4.8,3.9,1.7,1.5,6.2,3,1.4,5,7.5,4.2,7.2,10.9,7.7,6.7,8.2,1.4,2.3,3.6,4.3,7.2,6.2,2.1,2.2,2.1,2.1,3.5,3.4,2.4,2.5,1.2,2.3,1.4,2.9,3.9,2.2,3.1,2.9,2.7,1.2,2.1,5.6,5.1,1.9,4.3,6.6,3.7,4.5,1.5,3.8,4.7,2,1.5,2.6,5.6,3,2.3,2,3.7,3.5,1.1,3,7,6.6,4.3,4.6,5.6,2.2,2.2,3.1,2.4,3,4.6,2.7,3.9,3.1,3.8,2.4,3.5,2.2,1.9,5.5,1.4,1.5,0.7,,,,2.4,5,5.5,5,2.5,2.6,3.2,2.6,1.5,5.3,4.6,4.6,6.4,4.5,1.2,1.6,2.5,4.9,6,4.7,7.8,5,2.4,2.6,7.4,4,4.8,4.4,3.4,5,3.1,3.1,3.7,6.9,3.9,3.5,4.3,4.6,6.2,4.1,3.8,4.2,6.2,5.6,8.5,8.9,3.9,3.5,3.3,6,5.4,4.2,4.7,2.9,8.9,4.8,4.5,6.6,4.9,3.4,2.8,5.4,5.9,3.9,2.2,3.7,5,5,6.3,6.3,2.6,3.4,4.7,3.3,6.3,2.4,3.4,2.2,5.8,7.4,5.9,4.1,4.3,3,3.1,2.2,5.5,5.3,2.5,4.4,3.5,2.9,3.9,4.3,3.1,5.1,3.3,3.8,3.7,3.7,2.6,2.6,3,3.2,4.7,2.2,1.6,2.2,2.1,2.8,1.9,4.4,4.6,4.8,4.1,4.1,5,2.2,1.4,4.1,5,4.4,1.9,5.1,3.2,4.1,4.9,3.6,2.2,1.8,2,3.3,5.4,5.2,4.8,5.5,1.6,5.4,3.1,2.9,2,3.3,3.3,6.6,5.1,2.4,3.6,1.8,4.3,2.1,2.7,1.3,3.7,1.2,1.9,3.5,4.6,2.6,2.7,1.8,4.9,3.8,2.5,2.9,3.5,1.5,3.9,4.8,2.4,3.7,2.1,2.5,2.7,3.2,5,4.4,2.6,1.6,1.8,2.3,2.4,4.7,3.1,7.3,5.1,2.7,4.2,6.3,5.8,4.8,6.1,4.2,3.2,2,2.6,2.7,4,8.9,3.4,5.1,1.1,1.5,1.4,5.1,5.1,1.9,1.5,4.1,1.4,4.4,3.4,1.4,2.6,4.8,6.5,9.2,5.2,5.4,3.3,1.5,1.2,3.2,5.2,4.9,5.2,3.5,4,2.8,3.3,4.2,4.7,5.3,5.8,3.1,1.4,3.1,6.4,3.8,2.9,2.9,5.4,2.3,3.2,4.5,3.9,2,4.7,4.4,2.3,4.9,3.3,6.2,3.6,4,2.8,1.3,3.1,5.2,3.1,5.9,2.6,6.1,3.6,2.3,2.6,4.6,4,2.8,1.8,5.6,5.1,5.4,8.2,5,4.2,4.9,6.1,3.7,3.8,4.4,2.4,2.8,1.9,6.6,3.6,2.8,3.6,2.6,8,2.4,2.2,6.1,2.7,4.5,4.9,4.4,4.6,3.1,6.1,3.4,4.1,6.1,3.3,4.6,3.5,4.6,2.8,3.4,7,3.6,2.6,1.8,5.4,3.8,2.8,4.2,2.8,2.9,5.5,5.7,4.3,4.1,4.3,5.5,2.8,1.9,3,2.1,1.9,2.2,4.2,2.2,2.4,5.7,2.6,5.8,3.6,4.3,8.6,3,2,3.1,3,7.9,3.5,5.3,3.4,3,4.4,2.4,2.4,2.4,2.2,4.6,3.7,2.4,4.1,2.1,2.4,4.3,4.5,1.8,3.4,4.4,2.9,4,2.6,5.7,4.3,3.5,6.7,3.2,3.4,2.4,4.1,3.9,4.2,2.4,3.6,3.8,3.6,7.2,5,1.8,2.1,5.4,4.6,6.7,5.9,6.1,5.1,3.1,7.3,8.3,4.1,6.4,5.4,5.8,4,3.4,7,4.7,5,3.2,4.4,5.7,2.2,5,2.7,4,1.7,3.6,3,2.9,5.3,5,1.9,6.9,7.9,4.8,5.7,3.3,4.6,3.2,8.4,7,3.8,6.1,5.4,5.3,4.2,1.6,2.4,5.3,5.7,5,3.9,3.4,3.9,3.6,7.8,6.1,5.7,0.8,3,2.4,4.6,6.1,3.2,6,3.9,6.2,3.8,7.9,3.7,3,3.2,5,2,3.9,1.8,4.4,4.8,3.3,2.1,5.3,2.4,3.9,3.5,3.7,5.7,5.7,2.1,1.2,1.6,0.2,2.6,1.9,2.2,1.4,0.5,2.2,4.7,3.4,0.6,0.4,0.2,2,4.5,2.6,2.1,1,1.7,1.3,1.6,2,1.5,1.3,4.2,1.4,0.5,0.9,0.9,4.1,6,7.8,5.3,6,2.4,5.2,9.1,8.9,5,4.9,7.8,2.6,4.9,2.8,7.6,8.8,3.1,2.1,4.5,6.8,3.6,6.3,9,5.3,2.8,1.7,3.3,4.9,1.1,4.6,1.4,2.1,3.5,2.8,2.1,3.2,2.7,4.6,6.4,3.8,1.6,3,2.5,3.1,2.7,4.1,6.5,6.3,2,2.9,2.7,3.5,3.2,1.3,2.9,1.6,1.9,2.5,6.3,2.9,5.2,3.4,3,1.8,5.9,4.3,2,1.8,0.8,1.3,1,1.7,2.1,5,3.7,5,5.7,3.6,2,2,3.9,1.5,5.8,2,3,6.2,4,1.5,1.3,4.5,4.4,4.6,3.9,3,1.7,3.1,5.4,2.7,5.6,6,2.1,5,4.1,2.1,3.6,10.1,8.4,1.5,2.3,3.8,5.3,7.9,7.1,5.3,2.6,4.4,4.6,2.5,3.6,2.7,4.8,2.1,2.1,3.3,2.2,5,3.2,6.2,4.1,4.1,3.4,5.3,5.3,3.9,4,4.2,1.6,2.1,5.9,5.6,3.7,2.1,1.5,1.7,2.2,2.2,9.3,5.8,5.1,3.4,2.3,2.8,2.3,2.3,2.1,3.4,2.9,3.5,2.9,1.9,5.8,5,4.5,5,4.4,4.8,2.6,2.8,5.6,7.3,6.4,7.2,7.1,6.2,3,5.6,3.3,3.4,7.1,3.4,3.4,5.2,5.5,4.7,3.1,4.4,7.6,3.7,2.8,3.8,3.5,6.4,2.6,2.4,3.4,3.7,2.5,2.6,2.1,3.3,4.5,3,4.2,6.8,2.6,3,7.1,4.7,5.5,6.4,4.4,5.3,6.3,3,4.5,4.3,5.3,5.5,3.5,3.3,5.8,6.3,7.9,8.1,6.2,5.5,6.9,6.7,6,2.3,7.1,7.2,3.8,2.5,3.4,3.2,1.9,1.6,1.7,1.6,1.9,4.9,1.5,5.9,2.9,4.3,5.8,3.1,4,2.7,5.5,3.8,6.5,4.7,9.4,3.8,6.1,4.7,5.8,9.1,2.9,3.8,4.8,3.5,3.2,4.7,8,4.1,3.4,6.8,5.3,5.6,2.2,5,5.6,5.2,7.3,2.3,4.3,6.2,3.3,4.2,6.2,2.8,2.3,1.6,3.3,4.6,3.2,2.6,5.5,4.2,2.1,3.4,1.6,3.8,6,3.8,5.5,5,4.5,5.2,1.2,2.5,4.1,6.1,6,4.5,4.6,4.9,6.6,3,1.8,2.4,6.4,9,6,4.6,3.7,2.3,2.3,4.2,4.9,2.8,1.8,2.3,5.6,5.3,6.1,8.6,8,4.9,2.9,2.8,3.2,3.7,3.2,2.6,4.5,2.6,1.4,1,1.3,3,5.9,3.6,1.4,3.3,2.6,1.9,2.5,2.4,2.9,3.6,3.9,3.7,1.2,1.3,2.2,3.1,3.2,2,1.4,1.5,1.9,1.3,3.9,6.5,5.5,1.1,1,3,4.2,1.7,2.7,4.3,3.6,2.9,3.2,2.5,4.3,2.1,1.9,1.3,4.3,4,4.7,2.4,3.4,7.8,3.4,1.2,2.1,3.1,4.3,2.8,2.2,2.9,5.4,3.1,1.4,3.7,4.5,7.1,7.7,3.7,1.7,2.8,2.4,3.8,3.4,3.3,4.8,1.5,1.5,5.4,4.7,3,2.4,4.2,6.1,4.9,3.9,3.3,4,3.3,3.3,2.6,4.6,3.1,2.4,2.2,1.5,2.5,3,3.2,2.3,2.1,3.7,2.1,1.7,3.5,2,2.3,3,2.3,1.2,1.1,1,6.1,6.9,3.6,3.1,3.6,2.7,7.2,3.1,2.7,5,7.3,6.8,7.7,3.1,1.5,2,5.3,4.9,4.4,11.2,5.4,1.6,3.4,2.9,1.7,3.9,4.5,7.7,7.6,2.6,4.9,5.1,4.3,5.1,2,2.2,1.5,1.3,4,4.5,2.6,2.3,4,4.1,4.5,1.7,3.2,1.7,3,5.8,3.9,2.9,2.4,1.7,3,1.8,2,3.1,4.9,3,2.9,2.7,7.1,4.7,1.4,1.7,5.1,2.3,5.3,4.7,5.9,4.2,3.4,3.5,2.2,2.4,3.1,3.4,3.3,3.2,3,2.5,2.4,4.7,3.9,3.1,4.3,5.3,4,3.9,3.2,3.7,3.6,2.5,1.7,2.8,2.7,3.8,3.1,4.9,4,3.3,2.4,3.4,4.6,3.1,1.5,2.4,2.1,5.4,4.9,2.5,2.1,5.5,4.3,4.2,3,3.3,2,2.6,8.7,3.9,2.6,1.9,2.8,6.4,5.8,2,4,6,1.5,3,3.2,1.6,7.9,2.5,2.6,5,3.2,4,3.7,3.7,2.9,4.9,4,3.2,4,6.3,6.1,2.6,2.1,5.8,2,2.5,1.8,5,5,2.8,2.7,3.1,4.1,4.7,4,1.5,1.6,1.5,3.2,4.8,4,4,2.3,2.3,4.6,3.4,2.8,6.1,4.4,3,3.1,,4.6,3.6,2.4,3.6,3.5,3.5,3.5,5,4.3,,2.7,7.7,4,2.3,3.7,5.8,2.9,1.3,2.3,2.8,3.9,7,4,3.7,6.1,5.9,5.8,3.8,5.4,4.4,2.6,5.8,3.2,3.7,4.8,4.9,5,2.7,2.3,4.3,5.2,3.5,6.1,5.2,2.6,3.1,2.5,4.7,2.8,2.8,6.4,9.6,8.6,2,2.8,4.1,5.6,3.5,2.7,4.7,7,3.1,2.1,3.6,3.7,3.8,2.4,4.3,2.5,3,5.5,3.6,8,2.8,4.1,1.9,3.7,3.8,2.7,3.3,2.3,3.9,2.8,2.8,1.6,3,2.9,4.6,3.9,0.9,1.5,2.7,1.5,1.5,2.4,5.9,6.1,2.9,4.6,2.3,3.5,4.1,2.1,1.3,1.8,1.9,1,5.3,4.3,2.2,2.6,4.3,8.4,5.8,5.9,9.5,10.8,1.1,2.5,2.8,2.1,1.8,4.6,8.5,7.6,6.3,2.7,1.7,2.9,3,3.5,2.5,3.9,5.8,4.9,4.4,3.1,1.8,1.2,2,1.8,1.6,3.6,1.6,1.1,1.4,2.3,4.4,5.3,1.5,1.8,3.6,1.2,1.5,5.6,14.9,8.1,6.7,2.2,1.7,1.1,1.7,7,2.1,2.2,3.6,2.2,7.1,7.1,8.1,11.2,5.9,2.1,3.7,1.8,1.3,3.9,4.1,6.7,5.9,2.7,1.5,1.7,1.4,1.5,3.9,4.7,1.3,2.3,4.6,4.2,2.3,4.3,6.3,7,3,1.6,2.4,1.6,1.8,4,3.5,5.9,3,2.9,2.7,2,1.3,2.1,3.9,4.1,4.7,3.9,4.5,3.4,5.6,5,1.8,4.7,3.8,3.5,2.6,2.2,1.4,2.4,1.8,5.1,4.6,7.3,6.6,7.6,5.7,5.3,5.4,4.3,5,3.9,2.6,1.3,5.5,10.6,3.9,2.6,1.7,6.4,4.4,8.6,5.3,5.4,4.1,2.7,1.7,4.9,1.5,3.9,6.6,7.7,4,1.5,4.6,2.8,2.2,2,11.6,3.7,4.7,2.3,3.3,4.2,3.7,3.1,3,2.9,1.3,1.8,2.4,2.9,3.8,4.9,6.5,2.1,1.5,1.5,3.7,3.1,3.4,2.1,3.2,2.3,2.3,2.2,1.8,2.8,2.5,5,2.4,2.8,2.7,2.5,3.3,2.3,5.3,5.8,5.7,5.9,6,4.3,5.8,2.1,3.2,3.7,3.5,8.5,6.5,4.4,5.2,5.2,2.6,1.9,2.3,5.5,3.1,4.9,5.4,1.9,2.6,4.9,5,5.9,4.4,3.6,4.3,4.1,4.6,6.5,2.7,2.1,4.5,5.5,2.7,3.2,3.3,3.6,5.7,3.3,5.6,3.4,1.5,3.5,4.9,3.6,5.4,6.8,3.7,3.3,2,2.6,5.2,3.3,5.8,3,5.8,7.5,5.8,3.7,5.3,6.7,5.9,2.7,3,3.4,2.8,8.1,4.5,3.3,2.8,3.3,6.1,4.2,5.5,4.5,5.3,5.9,8,7.8,4,3.2,6.2,4.4,4.4,5.3,6.7,4.5,3.3,5.9,2.8,5.6,4.9,1.9,4.6,4.3,7.2,8.3,3.8,5.5,4.5,5.4,7.2,8.3,4,7.3,4.9,2.2,1.7,5.8,4.7,6.2,6.1,3.6,5,4.2,3.3,4.3,2.6,3.4,3.7,2.7,2.6,5.4,3.5,1.6,3.8,4.1,3.9,2.8,4.9,3,2.9,5.4,5.9,2.5,2.8,1.1,1.5,3,2.4,4.8,4.7,3.7,2.3,3.4,3.7,3.9,4.2,3.3,2.6,3.7,2.9,2.1,4.4,3.3,2,3.5,2.5,1.2,3.8,6.2,4.5,2,3.6,5.4,2.8,1.5,3.3,3.3,4.2,2.5,2.8,1.7,5.5,5.8,3.4,1.5,1.3,2.6,3.3,2.5,2.3,1.5,3.5,1.7,2.3,5.7,6.3,3.3,2.4,2,1.8,1.8,1.1,1.8,1.2,1.9,3.3,3.5,3.8,2.7,3.5,2.8,3.5,1.3,3.9,3.3,3.6,1.5,1.9,4.4,5.2,5.1,3.5,1.7,2.8,9.7,5.3,7.2,13.3,7.4,10.7,7.4,2.7,3.8,1.8,1.1,2.1,1.9,2.7,2.7,2.7,3.1,2.2,4.6,1.2,1.4,3.1,4.2,8.4,8.8,9.5,4.8,3.1,1.3,1.2,2.7,1.4,1.9,5.5,6.3,1.8,1.6,2,4,5.7,6.5,4.1,2.5,3.8,5,1.8,3.1,4.7,1.9,2.4,2.1,2.4,1.7,3.1,2.6,6.8,4.7,3.6,9.2,2.5,3.8,2.3,3.5,4.3,6.4,3.9,4.2,5.4,3.5,4.1,4.4,6.7,7.8,2.4,7.7,5,2.2,4,3.9,2.8,3.9,7,2.8,2.1,3.4,2.7,4.3,1.3,8,5.9,4.6,2.4,3.7,2.2,2.8,5.1,3.6,3.8,2.7,3.5,5.3,4.2,3.1,3.9,3.9,5.3,4.3,3.6,4.2,5.9,9.8,5.5,3.8,2.6,2.4,2.8,3.8,1.6,6.6,4.7,6.8,2,4.1,10.7,4.7,3,2.7,1.7,3.5,3,3.8,4.4,8.4,2.6,1.4,4.5,4.6,3.7,2.9,4.2,3.7,5.9,5,7.2,2.9,3.2,2.5,7.9,3.8,4.5,5.1,4.7,2.3,5.8,5,2.4,2.4,6.4,2.8,3.4,4.1,2.8,1.3,3.7,5.1,4.3,2.3,7.6,4.7,4,2.9,2.8,3.8,3.7,7.8,6,4.4,3.9,6.8,3.9,1.4,5.8,2.3,3.3,3.4,1.7,3.2,2.8,6.8,4.2,3.3,2.3,5.1,3.2,2.7,3.7,2.6,2.8,3.9,4.4,7.4,7.6,2.1,2.1,3.6,4.5,3.5,5.7,3.2,5.5,2.1,2.3,1.9,1.5,3.2,3.1,5.6,4.6,1.8,3.2,5.9,4,5.2,5.6,3.1,2.9,7,4.2,5.7,4.7,4.4,8.7,6.9,5.1,6.8,4.6,2.7,1.8,4.7,3.1,5.4,5.3,7.5,3.4,3.5,6.7,5.8,8.5,5.2,1.7,3.2,5.2,5.4,5.5,6.2,5.1,3.2,2.3,4.5,6.6,2.8,5.8,4.3,1.5,2.3,5.4,3.8,3.3,5.3,2.2,1.7,2.9,6.3,6.4,2.9,5.2,2.9,4.8,4.1,4.1,4.2,2.4,1.6,4.6,1.8,4,4.9,6.2,3.9,2.9,4.8,2.3,3.8,5.5,3.1,1.4,2.3,4.2,3.9,4.3,3,1.9,2,2.4,1.8,1.2,1.3,3.2,5.1,6.6,7.5,8.5,2.5,1.6,2.8,3.3,6.6,3.2,8.3,5.6,1.9,4.6,3.9,7.1,3.9,2.4,1.7,2.9,4.1,5.2,3.4,1.5,2.4,5.1,5,2,1.4,3.2,1.6,1.2,1.3,1.8,2.6,2.4,2.4,1.6,2.2,1.3,2.8,5.5,6.3,6.2,5.9,4.3,6.1,5.1,5.3,4.6,3.5,2.3,3.5,5.6,5.1,10.6,3.6,2.9,1.4,2.7,4.2,1.3,3.2,6.8,5.6,3,1.3,1.1,1.7,1.4,2,2.8,2,4.5,2.4,4.8,2.5,6,6.3,8,3.5,3.7,4.8,1.4,1.5,2.4,2.5,1.9,1.7,5.5,5.4,5.6,5.3,4.2,3.4,7.4,4.9,2.5,2.5,3.8,1.2,3.3,4.5,4.2,5.2,4.6,5.4,4,1.7,4.9,5.8,4.3,3.7,5.5,12.7,7.6,2.9,1.1,1.6,2.7,4.6,6.8,4.3,3.8,3.9,1.2,3.9,7.4,3.2,5.1,2.4,5.2,3.4,4.8,3.5,2.8,4.9,3.5,3.9,1.9,3.6,6.6,3,2.4,3.3,4.4,3.7,3.9,4.5,5.1,2,6,4.1,4,3.4,2.6,3.4,3.8,3.4,3.5,4.5,5.2,1.9,5.4,5.5,2.9,3.5,3.6,3,3.6,3.1,4.5,3.1,2,2.8,2.5,2.6,3.2,3.7,3.6,3.6,2.4,3.3,2.3,3.1,2.7,3.3,3.8,4.3,2.3,2.8,1.6,2.9,6.5,4.5,4.6,2.7,2.8,3.6,5.3,2.9,3.7,3,1.5,2,3.3,3.2,4.4,2.7,2.8,3.8,2,3.8,2.8,2.4,2.7,2.7,4.5,3.9,5.9,5.4,4.2,4.1,3.7,5.6,3.7,5.6,4.2,4.7,8,3.2,2.6,4.4,2.1,2,3.7,4.7,3.6,4.8,6.5,2.8,3.3,4.9,5.6,6.9,4.2,5.1,5.3,11.8,3.3,2.4,10.6,7.2,2.5,3.5,3.3,10,4,9,10,3.7,4.8,9.1,12,11.8,5.8,2.5,3.5,3.5,2.4,2.4,5.6,5.5,3,5,3.1,4.3,4.7,6.7,4.3,4,3.6,3.6,2.6,5.4,5.9,5.5,3.1,3.3,3.8,3.8,2.7,3.9,3.9,3.4,5.9,5.1,8.9,10.2,4.4,5.3,4.4,5.8,5.8,3.6,2.7,3.1,5.7,4.3,9.6,5.4,5.1,7.4,5.5,3.5,4.6,5.5,3.8,4.1,3.8,9,6.5,3.6,6.5,6.9,4,2.4,5.2,7.4,3,2.9,2.2,2.6,2.3,3.6,2.6,2.8,5.5,5.2,5.2,3.6,4.2,5.7,4.3,6,5.6,5.3,3.1,3,3.3,6.3,3.2,2.6,3,4.9,3.5,5.4,4,5.8,2.9,1.9,5.9,7.8,5.1,5.6,5.2,3.5,5.3,3.1,4.8,3.4,7.5,7.6,5.4,3.4,2.2,2.7,3.8,3.2,3.3,3,3.1,3.4,1.5,3.1,4.4,6.9,6.4,1.6,1.4,3.3,2.7,1.7,5,10,3,2.8,2,1.2,2.6,3,2.7,4.2,2.9,3.3,3.6,3.3,3.3,1.5,2.4,3.2,1.2,6.7,4.2,1.8,1.3,1.4,4.7,2.3,3.4,6.2,5.8,3.4,2.1,1.8,5,7.9,2.7,6.3,2.1,2.8,2.5,4.1,4.7,5.7,2.4,6.2,7,4.8,3.9,2.4,4.3,3.3,1.5,1.5,1.1,1.3,4.7,5.4,1.6,3,3.6,4.6,6.3,5.5,3.9,3.5,3.8,5.9,2.6,2.5,5.3,7.5,7,2.2,3.4,1.8,5.1,2.6,3.4,2.4,2.1,2.3,3.3,6,9.6,7.9,1.7,1.4,1.3,3.6,2.1,1.5,3.6,5.3,5.9,3.7,2.5,2.4,1.9,1.7,2.8,2.6,2.4,5.5,4,2.8,7.2,3.5,2.5,5.1,4.6,6.2,2.8,3.5,4.7,2.8,2.6,4.3,3.6,4.3,1.8,2.6,1.5,2.7,3,4.3,3.4,2.7,3.7,2.2,4.2,5.7,5.5,4,3,2.9,2.1,3.6,2.8,4.8,3.6,5,4,3.8,2.6,3.5,4.4,2,2.4,4.6,3.3,2.5,2.1,2.8,3.9,4,4,3.9,3.1,2,1.8,1.5,3,3.5,4.3,2.6,2.9,5,3,2.3,2.4,3.2,1.9,4.6,3.2,2.8,2,1.3,2.9,3.5,3.5,5,2.6,5.5,7.3,3.7,5.4,2.2,3.4,7.9,4.8,2.5,5.7,3.5,3.7,3.3,3.9,4.4,5.9,4.2,3.9,2.4,4.2,4.8,3.5,4.1,3,1.9,2.3,3.3,2,2,5.7,4.4,4.6,2.7,2.7,2.7,1.2,1.7,2.2,4.6,2.8,4.1,8.1,2.4,6.5,4.1,4.1,4,3.7,3.2,4.4,4.5,3.9,5.6,2.8,3.3,4.6,5.1,3.7,3.8,4.3,4.5,6.9,4.4,1.7,2.8,3.8,5,3.4,3.6,7.8,7.6,2.5,4.5,6,2.4,6.7,2.4,2.8,4.3,5.4,3.7,4,2.9,,2.3,3.4,2.2,2.4,4.6,3.4,8.2,8,3.3,3.7,2.1,3.1,1.8,5.2,4.1,3.2,4.6,6.6,5.7,4.9,3.5,1,2.2,3.3,2.7,2.9,3.3,4.2,4.2,2.7,2.4,5.7,6.7,6.2,4.3,3.8,2.4,4,5.8,4.8,4.8,4.6,6.3,4.3,3.9,3.8,4.3,3.7,3.5,8.9,4.8,3.8,6.4,5.7,2.9,3.2,4.4,6.5,4.1,2.8,2.3,2.5,2.7,3.5,4.9,5.2,2.5,2.5,3.7,2.5,3.8,2.3,3.8,2.6,2.5,3.3,2.8,3.4,5.7,5.6,5.8,5.9,6.1,3.3,3.2,2.4,1.9,1.8,2.6,1.4,3.2,3.1,3.4,5.3,6.9,1.8,3.5,4.1,6.7,3.7,6.9,7.2,7.9,8.2,4.3,1.5,1.4,1.5,2.7,4.6,4.3,4.6,2.3,3.1,3.5,2.6,3.4,6.8,7.9,4.6,6,2.5,3.4,5.3,2.1,1.8,3.2,1.4,2.1,1.2,2.2,2.3,3.1,3.9,2.5,2,3.1,3,2.6,2.3,2.4,3.5,5,1.8,2.2,6.2,6.2,3.7,1.3,5.6,5.7,5.7,4.5,3,2.3,3.8,11.9,11,1.4,2.3,1.4,2.1,1.3,1.6,1.4,1.1,3.2,5.2,5.5,6.1,5,1.5,4,2.3,1.7,5.6,12.7,6.8,5.1,6.2,2,3.1,6.6,5.9,1.1,3.3,5.2,5.2,6.5,4.7,3.6,3.1,2.8,4.1,2.6,5,3.9,2.1,5.8,5,3.8,3.1,5.4,2.3,4.1,2.6,3.3,2.6,4.8,3.1,6.1,2.8,2.2,4.7,3.9,1.8,1.2,1.4,1.7,3.4,9.7,2.2,5.5,8.7,4.3,3.5,2,2.9,3.7,3,3.2,3.3,2.6,1.9,3.6,5.7,6.7,2.9,3.7,5.6,2.2,1.6,5.1,6.3,4.6,1.9,2.8,2,5.2,1.9,3.6,2.6,6.5,2.1,1.7,2.8,3,1.8,2,2.3,4,2.2,1.7,1.9,8.2,4.4,2.8,1.9,4.9,2.9,4,3.7,2.3,3.8,4.1,3.3,3,2.8,3.1,1.9,5.5,2.2,5.7,7.6,11.6,6.6,7.7,5.3,2,2.4,3.6,3.4,5.9,5.2,3.5,5.3,3.4,3.4,2.3,2.5,2.3,2.3,2.5,3.8,3.4,2.8,1.8,1.9,3.2,4.8,3.6,4.6,6.5,7.2,5.9,2.3,4.4,1.8,5.5,3,3.8,3.9,2.2,1.5,4,2.6,5.3,3.5,5.1,4.6,3.4,5.4,5.6,6.3,4.4,8.5,4.9,6.7,4.9,3.5,1.7,4.2,5.6,6.5,2.8,2.7,1.7,1.9,4.9,5.7,3.9,6.1,2.5,3.6,2.9,4.5,5.2,3.1,3.2,5.3,10.5,2.6,3.7,3.3,2.3,5.5,4,3.6,3.8,3.6,2.1,5,9.9,4.1,2.3,5.5,4,4.3,7.9,4.4,5.9,6.7,3.7,3.8,2.8,3.5,3.8,4.5,5.6,6.3,6.2,4.3,4.2,1.6,1.2,2.4,5.1,4.9,3.3,2.5,2.3,5.3,2,1.5,2.4,2.6,1.5,1.8,3.1,5.6,3.7,3.4,3.9,4.4,3.1,2.2,4.7,6.5,6.3,3.2,2.5,3.6,5.4,6,5.3,4.1,4.7,3.4,1.7,1.6,1.9,2.3,1.9,2.2,4.5,2.4,1.4,1.5,4.8,8.7,2.4,3.1,3,3.9,2.1,2.3,2.3,1.4,1.9,4.1,2.4,4.6,9.4,3.4,1.8,2,1.4,1.7,7.3,2,1.9,2.3,2.8,1.1,2.8,1.7,1.6,1,2.4,2.5,"
     ]
    }
   ],
   "source": [
    "import csv\n",
    "f = open('C:/Users/myoungjin/OneDrive/Desktop/DMU-JMJ/1학년2학기/교양파이썬/14주차/weather.csv', encoding='utf-8')\n",
    "data = csv.reader(f)\n",
    "header = next(data)\n",
    "for row in data:\n",
    "    print(row[3], end=',')\n",
    "f.close()"
   ]
  },
  {
   "cell_type": "code",
   "execution_count": 3,
   "metadata": {},
   "outputs": [],
   "source": [
    "import csv\n",
    "f = open('C:/Users/myoungjin/OneDrive/Desktop/DMU-JMJ/1학년2학기/교양파이썬/14주차/weather.csv',encoding='utf-8')\n",
    "data = csv.reader(f)\n",
    "header = next(data)\n",
    "\n",
    "max_wind = 0.0\n",
    "for row in data:\n",
    "  if row[2] == '' :\n",
    "    wind = 0\n",
    "  else :\n",
    "    wind = float(row[2])\n",
    "  if max_wind < wind :\n",
    "    max_wind = wind"
   ]
  },
  {
   "cell_type": "code",
   "execution_count": 4,
   "metadata": {},
   "outputs": [
    {
     "data": {
      "image/png": "[encoded data removed]",
      "text/plain": [
       "<Figure size 640x480 with 1 Axes>"
      ]
     },
     "metadata": {},
     "output_type": "display_data"
    }
   ],
   "source": [
    "import csv\n",
    "import matplotlib.pyplot as plt\n",
    "f = open('weather.csv',encoding='utf-8')\n",
    "data = csv.reader(f)\n",
    "header = next(data)\n",
    "\n",
    "monthly_wind = [ 0 for x in range(12)]\n",
    "days_counted = [ 0 for x in range(12)]\n",
    "\n",
    "for row in data:\n",
    "  month = int(row[0][5:7])\n",
    "  if row[3] != '' :\n",
    "    wind = float(row[3])\n",
    "    monthly_wind[month-1] += wind\n",
    "    days_counted[month-1] += 1\n",
    "\n",
    "for i in range(12):\n",
    "  monthly_wind[i] /= days_counted[i]\n",
    "\n",
    "plt.plot(monthly_wind, 'blue')\n",
    "plt.savefig('weather_정명진.png', dpi=600)\n",
    "plt.show()\n",
    "\n",
    "f.close()"
   ]
  },
  {
   "cell_type": "code",
   "execution_count": null,
   "metadata": {},
   "outputs": [],
   "source": []
  }
 ],
 "metadata": {
  "kernelspec": {
   "display_name": "Python 3",
   "language": "python",
   "name": "python3"
  },
  "language_info": {
   "codemirror_mode": {
    "name": "ipython",
    "version": 3
   },
   "file_extension": ".py",
   "mimetype": "text/x-python",
   "name": "python",
   "nbconvert_exporter": "python",
   "pygments_lexer": "ipython3",
   "version": "3.12.2"
  }
 },
 "nbformat": 4,
 "nbformat_minor": 2
}
