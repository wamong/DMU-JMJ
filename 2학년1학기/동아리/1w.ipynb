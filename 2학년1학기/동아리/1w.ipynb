{
 "cells": [
  {
   "cell_type": "code",
   "execution_count": 3,
   "metadata": {},
   "outputs": [
    {
     "name": "stdout",
     "output_type": "stream",
     "text": [
      "[20252381] [김경모] Hello World!\n"
     ]
    }
   ],
   "source": [
    "print(f\"[{input(\"학번 :\")}] [{input(\"이름 :\")}] Hello World!\")"
   ]
  },
  {
   "cell_type": "code",
   "execution_count": 4,
   "metadata": {},
   "outputs": [
    {
     "name": "stdout",
     "output_type": "stream",
     "text": [
      "파이썬\n"
     ]
    }
   ],
   "source": [
    "a = '파이썬'\n",
    "\n",
    "print(a)"
   ]
  },
  {
   "cell_type": "code",
   "execution_count": 8,
   "metadata": {},
   "outputs": [],
   "source": [
    "def solution(a, b):\n",
    "    ab = int(str(a) + str(b))\n",
    "    ba = int(str(b) + str(a))\n",
    "\n",
    "    if ab >= ba:\n",
    "        return print(ab)\n",
    "    else:\n",
    "        return print(ba)"
   ]
  },
  {
   "cell_type": "code",
   "execution_count": 2,
   "metadata": {},
   "outputs": [
    {
     "name": "stdout",
     "output_type": "stream",
     "text": [
      "3 3\n"
     ]
    }
   ],
   "source": [
    "a = 1\n",
    "b = 2\n",
    "\n",
    "ab = str(a + b)\n",
    "ba = str(b + a)\n",
    "\n",
    "print(ab, ba)"
   ]
  },
  {
   "cell_type": "markdown",
   "metadata": {},
   "source": []
  },
  {
   "cell_type": "code",
   "execution_count": null,
   "metadata": {},
   "outputs": [],
   "source": [
    "def solution(numer1, denom1, numer2, denom2):\n",
    "    answer = []\n",
    "    numer = [numer1, numer2]\n",
    "    denom = [denom1, denom2]\n",
    "\n",
    "    if max(denom1, denom2) % min(denom1, denom2) == 0:\n",
    "        a = max(denom1, denom2)\n",
    "        b = numer[denom.index(min(denom))] * (max(denom1, denom2) / min(denom1, denom2)) + numer[denom.index(min(denom))+1]\n",
    "        answer = [b, a]\n",
    "        return answer\n",
    "    else:\n",
    "        a = denom1 * denom2\n",
    "        b = (numer1 * denom2) + (numer2 * denom1)\n",
    "        answer = [b, a]\n",
    "        return answer"
   ]
  },
  {
   "cell_type": "code",
   "execution_count": 10,
   "metadata": {},
   "outputs": [
    {
     "name": "stdout",
     "output_type": "stream",
     "text": [
      "[7.0, 4]\n"
     ]
    }
   ],
   "source": [
    "numer1 = 3\n",
    "denom1 = 2\n",
    "numer2 = 1\n",
    "denom2 = 4\n",
    "numer = [numer1, numer2]\n",
    "denom = [denom1, denom2]\n",
    "if max(denom1, denom2) % min(denom1, denom2) == 0:\n",
    "    a = max(denom1, denom2)\n",
    "    b = numer[denom.index(min(denom))] * (max(denom1, denom2) / min(denom1, denom2)) + numer[denom.index(min(denom))+1]\n",
    "    answer = [b, a]\n",
    "    print(answer)\n",
    "else:\n",
    "    a = denom1 * denom2\n",
    "    b = (numer1 * denom2) + (numer2 * denom1)\n",
    "    answer = [b, a]\n",
    "    print(answer)"
   ]
  },
  {
   "cell_type": "code",
   "execution_count": 7,
   "metadata": {},
   "outputs": [
    {
     "data": {
      "text/plain": [
       "[('basic', 1964),\n",
       " ('java', 1995),\n",
       " ('kotlin', 2016),\n",
       " ('python', 1991),\n",
       " ('c', 1972)]"
      ]
     },
     "execution_count": 7,
     "metadata": {},
     "output_type": "execute_result"
    }
   ],
   "source": [
    "pl = [('basic', 1964), ('java', 1995), ('kotlin', 2016), ('python', 1991), ('c', 1972)] \n",
    "\n",
    "pl\n"
   ]
  },
  {
   "cell_type": "code",
   "execution_count": 8,
   "metadata": {},
   "outputs": [
    {
     "data": {
      "text/plain": [
       "[('basic', 1964),\n",
       " ('c', 1972),\n",
       " ('java', 1995),\n",
       " ('kotlin', 2016),\n",
       " ('python', 1991)]"
      ]
     },
     "execution_count": 8,
     "metadata": {},
     "output_type": "execute_result"
    }
   ],
   "source": [
    "sorted(pl)"
   ]
  },
  {
   "cell_type": "code",
   "execution_count": 13,
   "metadata": {},
   "outputs": [
    {
     "data": {
      "text/plain": [
       "[('basic', 1964),\n",
       " ('c', 1972),\n",
       " ('java', 1995),\n",
       " ('kotlin', 2016),\n",
       " ('python', 1991)]"
      ]
     },
     "execution_count": 13,
     "metadata": {},
     "output_type": "execute_result"
    }
   ],
   "source": [
    "sorted(pl,key= lambda lang: lang[0])"
   ]
  },
  {
   "cell_type": "code",
   "execution_count": 14,
   "metadata": {},
   "outputs": [
    {
     "data": {
      "text/plain": [
       "[('basic', 1964),\n",
       " ('c', 1972),\n",
       " ('python', 1991),\n",
       " ('java', 1995),\n",
       " ('kotlin', 2016)]"
      ]
     },
     "execution_count": 14,
     "metadata": {},
     "output_type": "execute_result"
    }
   ],
   "source": [
    "sorted(pl,key= lambda lang: lang[1])"
   ]
  },
  {
   "cell_type": "code",
   "execution_count": 18,
   "metadata": {},
   "outputs": [
    {
     "data": {
      "text/plain": [
       "[('c', 1972),\n",
       " ('java', 1995),\n",
       " ('basic', 1964),\n",
       " ('kotlin', 2016),\n",
       " ('python', 1991)]"
      ]
     },
     "execution_count": 18,
     "metadata": {},
     "output_type": "execute_result"
    }
   ],
   "source": [
    "sorted(pl,key= lambda lang: len(lang[0]))"
   ]
  },
  {
   "cell_type": "code",
   "execution_count": null,
   "metadata": {},
   "outputs": [],
   "source": []
  }
 ],
 "metadata": {
  "kernelspec": {
   "display_name": "Python 3",
   "language": "python",
   "name": "python3"
  },
  "language_info": {
   "codemirror_mode": {
    "name": "ipython",
    "version": 3
   },
   "file_extension": ".py",
   "mimetype": "text/x-python",
   "name": "python",
   "nbconvert_exporter": "python",
   "pygments_lexer": "ipython3",
   "version": "3.12.2"
  }
 },
 "nbformat": 4,
 "nbformat_minor": 2
}
