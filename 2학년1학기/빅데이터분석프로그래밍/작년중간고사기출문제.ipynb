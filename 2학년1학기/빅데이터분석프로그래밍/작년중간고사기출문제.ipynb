{
 "cells": [
  {
   "cell_type": "code",
   "execution_count": 2,
   "id": "fe6d61cc",
   "metadata": {},
   "outputs": [
    {
     "data": {
      "text/html": [
       "<div>\n",
       "<style scoped>\n",
       "    .dataframe tbody tr th:only-of-type {\n",
       "        vertical-align: middle;\n",
       "    }\n",
       "\n",
       "    .dataframe tbody tr th {\n",
       "        vertical-align: top;\n",
       "    }\n",
       "\n",
       "    .dataframe thead th {\n",
       "        text-align: right;\n",
       "    }\n",
       "</style>\n",
       "<table border=\"1\" class=\"dataframe\">\n",
       "  <thead>\n",
       "    <tr style=\"text-align: right;\">\n",
       "      <th></th>\n",
       "      <th>var1</th>\n",
       "      <th>v2</th>\n",
       "    </tr>\n",
       "  </thead>\n",
       "  <tbody>\n",
       "    <tr>\n",
       "      <th>x</th>\n",
       "      <td>1</td>\n",
       "      <td>2</td>\n",
       "    </tr>\n",
       "    <tr>\n",
       "      <th>1</th>\n",
       "      <td>2</td>\n",
       "      <td>3</td>\n",
       "    </tr>\n",
       "    <tr>\n",
       "      <th>y</th>\n",
       "      <td>1</td>\n",
       "      <td>2</td>\n",
       "    </tr>\n",
       "  </tbody>\n",
       "</table>\n",
       "</div>"
      ],
      "text/plain": [
       "   var1  v2\n",
       "x     1   2\n",
       "1     2   3\n",
       "y     1   2"
      ]
     },
     "execution_count": 2,
     "metadata": {},
     "output_type": "execute_result"
    }
   ],
   "source": [
    "# 4. 다음 코드의 결과에서 빈 부분을 완성하세요\n",
    "import pandas as pd\n",
    "import numpy as np\n",
    "\n",
    "df1 = pd.DataFrame({'var1' : [1, 2, 1],\n",
    "                    'var2' : [2, 3, 2]})\n",
    "df1.rename(columns = {'var2' : 'v2'}, inplace = True)\n",
    "df1.rename(index = {0 : 'x', 2 : 'y'}, inplace = True)\n",
    "df1"
   ]
  },
  {
   "cell_type": "code",
   "execution_count": null,
   "id": "69105952",
   "metadata": {},
   "outputs": [],
   "source": [
    "# 5. 다음 코드와 동일한 기능을 메소드 isin()을 사용해 구현하기 위한 빈 부분을 완성하세요.\n",
    "# 문제\n",
    "'''\n",
    "mpg['size'] = np.where((mpg['category']=='compact') |\n",
    "                      (mpg['category']=='2seater'),\n",
    "                       'small', 'large')\n",
    "mpg['size'].value_counts()\n",
    "'''\n",
    "\n",
    "# 답\n",
    "'''\n",
    "mpg['size'] = np.where(mpg['category'].isin(['compact', '2seater']), 'small', 'large')\n",
    "mpg['size'].value_counts()\n",
    "'''\n",
    "\n"
   ]
  },
  {
   "cell_type": "code",
   "execution_count": null,
   "id": "f073bdab",
   "metadata": {},
   "outputs": [],
   "source": [
    "# 6. 다음 코드의 빈 부분 완성\n",
    "# 1) \n",
    "mpg."
   ]
  }
 ],
 "metadata": {
  "kernelspec": {
   "display_name": "Python 3",
   "language": "python",
   "name": "python3"
  },
  "language_info": {
   "codemirror_mode": {
    "name": "ipython",
    "version": 3
   },
   "file_extension": ".py",
   "mimetype": "text/x-python",
   "name": "python",
   "nbconvert_exporter": "python",
   "pygments_lexer": "ipython3",
   "version": "3.12.2"
  }
 },
 "nbformat": 4,
 "nbformat_minor": 5
}
